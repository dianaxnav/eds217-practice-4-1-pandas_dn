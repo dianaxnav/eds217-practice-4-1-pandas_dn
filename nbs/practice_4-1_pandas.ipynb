{
 "cells": [
  {
   "cell_type": "code",
   "execution_count": 1,
   "metadata": {},
   "outputs": [
    {
     "name": "stdout",
     "output_type": "stream",
     "text": [
      "Intel MKL WARNING: Support of Intel(R) Streaming SIMD Extensions 4.2 (Intel(R) SSE4.2) enabled only processors has been deprecated. Intel oneAPI Math Kernel Library 2025.0 will require Intel(R) Advanced Vector Extensions (Intel(R) AVX) instructions.\n",
      "Intel MKL WARNING: Support of Intel(R) Streaming SIMD Extensions 4.2 (Intel(R) SSE4.2) enabled only processors has been deprecated. Intel oneAPI Math Kernel Library 2025.0 will require Intel(R) Advanced Vector Extensions (Intel(R) AVX) instructions.\n"
     ]
    }
   ],
   "source": [
    "import pandas as pd \n",
    "import numpy as np\n",
    "import matplotlib.pyplot as plt"
   ]
  },
  {
   "cell_type": "code",
   "execution_count": 3,
   "metadata": {},
   "outputs": [],
   "source": [
    "#Use panda’s read_csv() to import the data\n",
    "\n",
    "data_url = \"https://raw.githubusercontent.com/environmental-data-science\" \\\n",
    "            \"/eds217_2023/main/data/BSRN_GOB_2019-10.csv\"\n",
    "\n",
    "bsrn = pd.read_csv(data_url)\n"
   ]
  },
  {
   "cell_type": "code",
   "execution_count": 5,
   "metadata": {},
   "outputs": [
    {
     "data": {
      "text/plain": [
       "Index(['DATE', 'H_m', 'SWD_Wm2', 'STD_SWD', 'DIR_Wm2', 'STD_DIR', 'DIF_Wm2',\n",
       "       'STD_DIF', 'LWD_Wm2', 'STD_LWD', 'SWU_Wm2', 'LWU_Wm2', 'T_degC', 'RH',\n",
       "       'P_hPa'],\n",
       "      dtype='object')"
      ]
     },
     "execution_count": 5,
     "metadata": {},
     "output_type": "execute_result"
    }
   ],
   "source": [
    "#2a. Print a list of your DataFrame column names \n",
    "bsrn.columns\n"
   ]
  },
  {
   "cell_type": "code",
   "execution_count": 7,
   "metadata": {},
   "outputs": [
    {
     "data": {
      "text/plain": [
       "669600"
      ]
     },
     "execution_count": 7,
     "metadata": {},
     "output_type": "execute_result"
    }
   ],
   "source": [
    "#2b How many values are there in the entire data frame \n",
    "bsrn.size"
   ]
  },
  {
   "cell_type": "code",
   "execution_count": 12,
   "metadata": {},
   "outputs": [
    {
     "name": "stdout",
     "output_type": "stream",
     "text": [
      "<bound method Series.info of DATE       2019-10-01 00:00:00\n",
      "H_m                          2\n",
      "SWD_Wm2                   -3.0\n",
      "STD_SWD                    0.0\n",
      "DIR_Wm2                    0.0\n",
      "STD_DIR                    0.0\n",
      "DIF_Wm2                   -3.0\n",
      "STD_DIF                    0.0\n",
      "LWD_Wm2                  300.0\n",
      "STD_LWD                    0.1\n",
      "SWU_Wm2                      0\n",
      "LWU_Wm2                    383\n",
      "T_degC                    16.2\n",
      "RH                        30.7\n",
      "P_hPa                      966\n",
      "Name: 0, dtype: object>\n"
     ]
    }
   ],
   "source": [
    "#2c. What is the data type of the first col\n",
    "print(bsrn.iloc[0].info)"
   ]
  }
 ],
 "metadata": {
  "kernelspec": {
   "display_name": "eds217_2023",
   "language": "python",
   "name": "python3"
  },
  "language_info": {
   "codemirror_mode": {
    "name": "ipython",
    "version": 3
   },
   "file_extension": ".py",
   "mimetype": "text/x-python",
   "name": "python",
   "nbconvert_exporter": "python",
   "pygments_lexer": "ipython3",
   "version": "3.10.12"
  },
  "orig_nbformat": 4
 },
 "nbformat": 4,
 "nbformat_minor": 2
}
